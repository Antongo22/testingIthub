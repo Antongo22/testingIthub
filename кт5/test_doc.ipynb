{
 "cells": [
  {
   "cell_type": "markdown",
   "metadata": {},
   "source": [
    "**install**"
   ]
  },
  {
   "cell_type": "code",
   "execution_count": 16,
   "metadata": {},
   "outputs": [
    {
     "name": "stdout",
     "output_type": "stream",
     "text": [
      "Requirement already satisfied: pytest in c:\\users\\anton\\appdata\\local\\programs\\python\\python313\\lib\\site-packages (8.3.3)\n",
      "Requirement already satisfied: iniconfig in c:\\users\\anton\\appdata\\local\\programs\\python\\python313\\lib\\site-packages (from pytest) (2.0.0)\n",
      "Requirement already satisfied: packaging in c:\\users\\anton\\appdata\\local\\programs\\python\\python313\\lib\\site-packages (from pytest) (24.1)\n",
      "Requirement already satisfied: pluggy<2,>=1.5 in c:\\users\\anton\\appdata\\local\\programs\\python\\python313\\lib\\site-packages (from pytest) (1.5.0)\n",
      "Requirement already satisfied: colorama in c:\\users\\anton\\appdata\\local\\programs\\python\\python313\\lib\\site-packages (from pytest) (0.4.6)\n",
      "Note: you may need to restart the kernel to use updated packages.\n"
     ]
    }
   ],
   "source": [
    "pip install pytest"
   ]
  },
  {
   "cell_type": "code",
   "execution_count": 10,
   "metadata": {},
   "outputs": [
    {
     "name": "stdout",
     "output_type": "stream",
     "text": [
      "\u001b[1m============================= test session starts =============================\u001b[0m\n",
      "platform win32 -- Python 3.13.0, pytest-8.3.3, pluggy-1.5.0\n",
      "rootdir: c:\\Users\\anton\\Desktop\\Полезные файлы\\Учёба\\ITHub\\3 курс\\1 семестр\\Тестирование\\кт5\n",
      "plugins: allure-pytest-2.13.5, anyio-4.6.2.post1, cov-5.0.0, sugar-1.0.0\n",
      "collected 3 items\n",
      "\n",
      "test.py \u001b[32m.\u001b[0m\u001b[32m.\u001b[0m\u001b[32m.\u001b[0m\u001b[33m                                                              [100%]\u001b[0m\n",
      "\n",
      "\u001b[33m============================== warnings summary ===============================\u001b[0m\n",
      "test.py::test_create_user\n",
      "test.py::test_get_order\n",
      "test.py::test_delete_order\n",
      "  C:\\Users\\anton\\AppData\\Local\\Programs\\Python\\Python313\\Lib\\site-packages\\pydantic\\main.py:1114: PydanticDeprecatedSince20: The `dict` method is deprecated; use `model_dump` instead. Deprecated in Pydantic V2.0 to be removed in V3.0. See Pydantic V2 Migration Guide at https://errors.pydantic.dev/2.9/migration/\n",
      "    warnings.warn('The `dict` method is deprecated; use `model_dump` instead.', category=PydanticDeprecatedSince20)\n",
      "\n",
      "-- Docs: https://docs.pytest.org/en/stable/how-to/capture-warnings.html\n",
      "\n",
      "---------- coverage: platform win32, python 3.13.0-final-0 -----------\n",
      "Name      Stmts   Miss  Cover\n",
      "-----------------------------\n",
      "test.py      64      0   100%\n",
      "-----------------------------\n",
      "TOTAL        64      0   100%\n",
      "\n",
      "\u001b[33m======================== \u001b[32m3 passed\u001b[0m, \u001b[33m\u001b[1m3 warnings\u001b[0m\u001b[33m in 5.48s\u001b[0m\u001b[33m ========================\u001b[0m\n"
     ]
    },
    {
     "name": "stderr",
     "output_type": "stream",
     "text": [
      "\"allure\" �� ���� ����७��� ��� ���譥�\n",
      "��������, �ᯮ��塞�� �ணࠬ��� ��� ������ 䠩���.\n"
     ]
    }
   ],
   "source": [
    "!pytest test.py  --alluredir=allure-results --cov\n",
    "!allure serve allure-results\n"
   ]
  },
  {
   "cell_type": "code",
   "execution_count": 13,
   "metadata": {},
   "outputs": [
    {
     "name": "stdout",
     "output_type": "stream",
     "text": [
      "\u001b[1m============================= test session starts =============================\u001b[0m\n",
      "platform win32 -- Python 3.13.0, pytest-8.3.3, pluggy-1.5.0\n",
      "rootdir: c:\\Users\\anton\\Desktop\\Полезные файлы\\Учёба\\ITHub\\3 курс\\1 семестр\\Тестирование\\кт5\n",
      "plugins: allure-pytest-2.13.5, anyio-4.6.2.post1, cov-5.0.0, sugar-1.0.0\n",
      "collected 3 items\n",
      "\n",
      "test1.py \u001b[32m.\u001b[0m\u001b[32m.\u001b[0m\u001b[32m.\u001b[0m\u001b[32m                                                             [100%]\u001b[0m\n",
      "\n",
      "---------- coverage: platform win32, python 3.13.0-final-0 -----------\n",
      "Name       Stmts   Miss  Cover\n",
      "------------------------------\n",
      "test1.py      32      0   100%\n",
      "------------------------------\n",
      "TOTAL         32      0   100%\n",
      "\n",
      "\n",
      "\u001b[32m============================== \u001b[32m\u001b[1m3 passed\u001b[0m\u001b[32m in 7.38s\u001b[0m\u001b[32m ==============================\u001b[0m\n"
     ]
    }
   ],
   "source": [
    "!pytest test1.py --cov\n"
   ]
  }
 ],
 "metadata": {
  "kernelspec": {
   "display_name": "Python 3",
   "language": "python",
   "name": "python3"
  },
  "language_info": {
   "codemirror_mode": {
    "name": "ipython",
    "version": 3
   },
   "file_extension": ".py",
   "mimetype": "text/x-python",
   "name": "python",
   "nbconvert_exporter": "python",
   "pygments_lexer": "ipython3",
   "version": "3.13.0"
  }
 },
 "nbformat": 4,
 "nbformat_minor": 2
}
