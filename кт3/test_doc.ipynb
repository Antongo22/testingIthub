{
 "cells": [
  {
   "cell_type": "markdown",
   "metadata": {},
   "source": [
    "**install**"
   ]
  },
  {
   "cell_type": "code",
   "execution_count": 1,
   "metadata": {},
   "outputs": [
    {
     "name": "stdout",
     "output_type": "stream",
     "text": [
      "Requirement already satisfied: pytest in c:\\users\\anton\\appdata\\local\\programs\\python\\python313\\lib\\site-packages (8.3.3)Note: you may need to restart the kernel to use updated packages.\n",
      "\n",
      "Requirement already satisfied: iniconfig in c:\\users\\anton\\appdata\\local\\programs\\python\\python313\\lib\\site-packages (from pytest) (2.0.0)\n",
      "Requirement already satisfied: packaging in c:\\users\\anton\\appdata\\local\\programs\\python\\python313\\lib\\site-packages (from pytest) (24.1)\n",
      "Requirement already satisfied: pluggy<2,>=1.5 in c:\\users\\anton\\appdata\\local\\programs\\python\\python313\\lib\\site-packages (from pytest) (1.5.0)\n",
      "Requirement already satisfied: colorama in c:\\users\\anton\\appdata\\local\\programs\\python\\python313\\lib\\site-packages (from pytest) (0.4.6)\n"
     ]
    }
   ],
   "source": [
    "pip install pytest"
   ]
  },
  {
   "cell_type": "code",
   "execution_count": 8,
   "metadata": {},
   "outputs": [
    {
     "name": "stdout",
     "output_type": "stream",
     "text": [
      "\u001b[1m============================= test session starts =============================\u001b[0m\n",
      "platform win32 -- Python 3.13.0, pytest-8.3.3, pluggy-1.5.0\n",
      "rootdir: c:\\Users\\anton\\Desktop\\Полезные файлы\\Учёба\\ITHub\\3 курс\\1 семестр\\Тестирование\\кт3\n",
      "plugins: anyio-4.6.2.post1, cov-5.0.0, sugar-1.0.0\n",
      "collected 6 items\n",
      "\n",
      "tests.py \u001b[32m.\u001b[0m\u001b[31mF\u001b[0m\u001b[32m.\u001b[0m\u001b[31mF\u001b[0m\u001b[32m.\u001b[0m\u001b[31mF\u001b[0m\u001b[31m                                                          [100%]\u001b[0m\n",
      "\n",
      "================================== FAILURES ===================================\n",
      "\u001b[31m\u001b[1m_________________________ test_get_string_length_fail _________________________\u001b[0m\n",
      "\n",
      "    \u001b[0m\u001b[94mdef\u001b[39;49;00m \u001b[92mtest_get_string_length_fail\u001b[39;49;00m():\u001b[90m\u001b[39;49;00m\n",
      ">       \u001b[94massert\u001b[39;49;00m get_string_length(\u001b[33m\"\u001b[39;49;00m\u001b[33mHello\u001b[39;49;00m\u001b[33m\"\u001b[39;49;00m) == \u001b[94m6\u001b[39;49;00m, \u001b[33m\"\u001b[39;49;00m\u001b[33mТест провален: ожидалась длина 6\u001b[39;49;00m\u001b[33m\"\u001b[39;49;00m\u001b[90m\u001b[39;49;00m\n",
      "\u001b[1m\u001b[31mE       AssertionError: Тест провален: ожидалась длина 6\u001b[0m\n",
      "\u001b[1m\u001b[31mE       assert 5 == 6\u001b[0m\n",
      "\u001b[1m\u001b[31mE        +  where 5 = get_string_length('Hello')\u001b[0m\n",
      "\n",
      "\u001b[1m\u001b[31mtests.py\u001b[0m:36: AssertionError\n",
      "\u001b[31m\u001b[1m________________________ test_save_string_to_file_fail ________________________\u001b[0m\n",
      "\n",
      "file_path = local('C:\\\\Users\\\\anton\\\\AppData\\\\Local\\\\Temp\\\\pytest-of-anton\\\\pytest-6\\\\test_save_string_to_file_fail0\\\\test_file.txt')\n",
      "\n",
      "    \u001b[0m\u001b[94mdef\u001b[39;49;00m \u001b[92mtest_save_string_to_file_fail\u001b[39;49;00m(file_path):\u001b[90m\u001b[39;49;00m\n",
      "        test_string = \u001b[33m\"\u001b[39;49;00m\u001b[33mHello, World!\u001b[39;49;00m\u001b[33m\"\u001b[39;49;00m\u001b[90m\u001b[39;49;00m\n",
      "        save_string_to_file(test_string, file_path)\u001b[90m\u001b[39;49;00m\n",
      "        \u001b[94mwith\u001b[39;49;00m \u001b[96mopen\u001b[39;49;00m(file_path, \u001b[33m'\u001b[39;49;00m\u001b[33mr\u001b[39;49;00m\u001b[33m'\u001b[39;49;00m, encoding=\u001b[33m'\u001b[39;49;00m\u001b[33mutf-8\u001b[39;49;00m\u001b[33m'\u001b[39;49;00m) \u001b[94mas\u001b[39;49;00m file:\u001b[90m\u001b[39;49;00m\n",
      "            content = file.read()\u001b[90m\u001b[39;49;00m\n",
      ">       \u001b[94massert\u001b[39;49;00m content == \u001b[33m\"\u001b[39;49;00m\u001b[33mHello, Python!\u001b[39;49;00m\u001b[33m\"\u001b[39;49;00m, \u001b[33m\"\u001b[39;49;00m\u001b[33mТест провален: ожидалась строка \u001b[39;49;00m\u001b[33m'\u001b[39;49;00m\u001b[33mHello, Python!\u001b[39;49;00m\u001b[33m'\u001b[39;49;00m\u001b[33m\"\u001b[39;49;00m\u001b[90m\u001b[39;49;00m\n",
      "\u001b[1m\u001b[31mE       AssertionError: Тест провален: ожидалась строка 'Hello, Python!'\u001b[0m\n",
      "\u001b[1m\u001b[31mE       assert 'Hello, World!' == 'Hello, Python!'\u001b[0m\n",
      "\u001b[1m\u001b[31mE         \u001b[0m\n",
      "\u001b[1m\u001b[31mE         - Hello, Python!\u001b[0m\n",
      "\u001b[1m\u001b[31mE         + Hello, World!\u001b[0m\n",
      "\n",
      "\u001b[1m\u001b[31mtests.py\u001b[0m:52: AssertionError\n",
      "\u001b[31m\u001b[1m___________________________ test_db_connection_fail ___________________________\u001b[0m\n",
      "\n",
      "db_connection = <sqlite3.Connection object at 0x000001FDC88A2980>\n",
      "\n",
      "    \u001b[0m\u001b[94mdef\u001b[39;49;00m \u001b[92mtest_db_connection_fail\u001b[39;49;00m(db_connection):\u001b[90m\u001b[39;49;00m\n",
      "        cursor = db_connection.cursor()\u001b[90m\u001b[39;49;00m\n",
      "        cursor.execute(\u001b[33m\"\u001b[39;49;00m\u001b[33mCREATE TABLE test_table (id INTEGER PRIMARY KEY, name TEXT);\u001b[39;49;00m\u001b[33m\"\u001b[39;49;00m)\u001b[90m\u001b[39;49;00m\n",
      "        cursor.execute(\u001b[33m\"\u001b[39;49;00m\u001b[33mINSERT INTO test_table (name) VALUES (\u001b[39;49;00m\u001b[33m'\u001b[39;49;00m\u001b[33mtest_name\u001b[39;49;00m\u001b[33m'\u001b[39;49;00m\u001b[33m);\u001b[39;49;00m\u001b[33m\"\u001b[39;49;00m)\u001b[90m\u001b[39;49;00m\n",
      "        db_connection.commit()\u001b[90m\u001b[39;49;00m\n",
      "    \u001b[90m\u001b[39;49;00m\n",
      "        cursor.execute(\u001b[33m\"\u001b[39;49;00m\u001b[33mSELECT * FROM test_table;\u001b[39;49;00m\u001b[33m\"\u001b[39;49;00m)\u001b[90m\u001b[39;49;00m\n",
      "        rows = cursor.fetchall()\u001b[90m\u001b[39;49;00m\n",
      ">       \u001b[94massert\u001b[39;49;00m \u001b[96mlen\u001b[39;49;00m(rows) == \u001b[94m0\u001b[39;49;00m, \u001b[33m\"\u001b[39;49;00m\u001b[33mТест провален: ожидалось 0 строк\u001b[39;49;00m\u001b[33m\"\u001b[39;49;00m\u001b[90m\u001b[39;49;00m\n",
      "\u001b[1m\u001b[31mE       AssertionError: Тест провален: ожидалось 0 строк\u001b[0m\n",
      "\u001b[1m\u001b[31mE       assert 1 == 0\u001b[0m\n",
      "\u001b[1m\u001b[31mE        +  where 1 = len([(1, 'test_name')])\u001b[0m\n",
      "\n",
      "\u001b[1m\u001b[31mtests.py\u001b[0m:75: AssertionError\n",
      "\n",
      "---------- coverage: platform win32, python 3.13.0-final-0 -----------\n",
      "Name       Stmts   Miss  Cover\n",
      "------------------------------\n",
      "tasks.py      16      0   100%\n",
      "tests.py      51      0   100%\n",
      "------------------------------\n",
      "TOTAL         67      0   100%\n",
      "\n",
      "\u001b[36m\u001b[1m=========================== short test summary info ===========================\u001b[0m\n",
      "\u001b[31mFAILED\u001b[0m tests.py::\u001b[1mtest_get_string_length_fail\u001b[0m - AssertionError: Тест провален: ожидалась длина 6\n",
      "\u001b[31mFAILED\u001b[0m tests.py::\u001b[1mtest_save_string_to_file_fail\u001b[0m - AssertionError: Тест провален: ожидалась строка 'Hello, Python!'\n",
      "\u001b[31mFAILED\u001b[0m tests.py::\u001b[1mtest_db_connection_fail\u001b[0m - AssertionError: Тест провален: ожидалось 0 строк\n",
      "\u001b[31m========================= \u001b[31m\u001b[1m3 failed\u001b[0m, \u001b[32m3 passed\u001b[0m\u001b[31m in 0.21s\u001b[0m\u001b[31m =========================\u001b[0m\n"
     ]
    }
   ],
   "source": [
    "!pytest tests.py --cov\n"
   ]
  }
 ],
 "metadata": {
  "kernelspec": {
   "display_name": "Python 3",
   "language": "python",
   "name": "python3"
  },
  "language_info": {
   "codemirror_mode": {
    "name": "ipython",
    "version": 3
   },
   "file_extension": ".py",
   "mimetype": "text/x-python",
   "name": "python",
   "nbconvert_exporter": "python",
   "pygments_lexer": "ipython3",
   "version": "3.13.0"
  }
 },
 "nbformat": 4,
 "nbformat_minor": 2
}
