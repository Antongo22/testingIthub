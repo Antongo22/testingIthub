{
 "cells": [
  {
   "cell_type": "code",
   "execution_count": 2,
   "metadata": {},
   "outputs": [
    {
     "name": "stdout",
     "output_type": "stream",
     "text": [
      "\u001b[1m============================= test session starts =============================\u001b[0m\n",
      "platform win32 -- Python 3.13.0, pytest-8.3.3, pluggy-1.5.0\n",
      "rootdir: c:\\Users\\anton\\Desktop\\Полезные файлы\\Учёба\\ITHub\\3 курс\\1 семестр\\Тестирование\\pre3кт\n",
      "plugins: anyio-4.6.2.post1, cov-5.0.0, sugar-1.0.0\n",
      "collected 6 items\n",
      "\n",
      "tests.py \u001b[32m.\u001b[0m\u001b[32m.\u001b[0m\u001b[32m.\u001b[0m\u001b[32m.\u001b[0m\u001b[32m.\u001b[0m\u001b[32m.\u001b[0m\u001b[32m                                                          [100%]\u001b[0m\n",
      "\n",
      "---------- coverage: platform win32, python 3.13.0-final-0 -----------\n",
      "Name       Stmts   Miss  Cover\n",
      "------------------------------\n",
      "tests.py      16      0   100%\n",
      "------------------------------\n",
      "TOTAL         16      0   100%\n",
      "\n",
      "\n",
      "\u001b[32m============================== \u001b[32m\u001b[1m6 passed\u001b[0m\u001b[32m in 0.10s\u001b[0m\u001b[32m ==============================\u001b[0m\n"
     ]
    }
   ],
   "source": [
    "!pytest tests.py --cov"
   ]
  }
 ],
 "metadata": {
  "kernelspec": {
   "display_name": "Python 3",
   "language": "python",
   "name": "python3"
  },
  "language_info": {
   "codemirror_mode": {
    "name": "ipython",
    "version": 3
   },
   "file_extension": ".py",
   "mimetype": "text/x-python",
   "name": "python",
   "nbconvert_exporter": "python",
   "pygments_lexer": "ipython3",
   "version": "3.13.0"
  }
 },
 "nbformat": 4,
 "nbformat_minor": 2
}
